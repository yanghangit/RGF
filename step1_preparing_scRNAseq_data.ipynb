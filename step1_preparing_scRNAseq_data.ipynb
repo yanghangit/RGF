{
  "cells": [
    {
      "cell_type": "code",
      "execution_count": null,
      "metadata": {
        "id": "YkVWRFM44KhK"
      },
      "outputs": [],
      "source": [
        "PROJECT_NAME = \"reverse-gene-finder\""
      ]
    },
    {
      "cell_type": "code",
      "execution_count": null,
      "metadata": {
        "id": "hInH2FPWWalw"
      },
      "outputs": [],
      "source": [
        "import os\n",
        "PROJECT_HOME = os.path.join(\"/content/drive/My Drive/Projects\", PROJECT_NAME)"
      ]
    },
    {
      "cell_type": "code",
      "execution_count": null,
      "metadata": {
        "colab": {
          "base_uri": "https://localhost:8080/"
        },
        "id": "AJYOEgFb4KhM",
        "outputId": "22062f75-e823-461f-9939-eb807d67d055"
      },
      "outputs": [
        {
          "name": "stdout",
          "output_type": "stream",
          "text": [
            "Mounted at /content/drive\n"
          ]
        }
      ],
      "source": [
        "# Google Drive storage setup\n",
        "from google.colab import drive\n",
        "drive.mount('/content/drive', force_remount=True)"
      ]
    },
    {
      "cell_type": "code",
      "execution_count": null,
      "metadata": {
        "id": "LzwtrHooYbiB"
      },
      "outputs": [],
      "source": [
        "%pip install rpy2 anndata pyensembl > /dev/null 2> /dev/null"
      ]
    },
    {
      "cell_type": "code",
      "execution_count": null,
      "metadata": {
        "id": "JNkOHdQSKjmM"
      },
      "outputs": [],
      "source": [
        "import scipy\n",
        "import anndata\n",
        "import numpy as np\n",
        "import pandas as pd\n",
        "\n",
        "from pyensembl import EnsemblRelease\n",
        "\n",
        "import rpy2.robjects as ro\n",
        "from rpy2.robjects.packages import importr"
      ]
    },
    {
      "cell_type": "code",
      "execution_count": null,
      "metadata": {
        "id": "HZU6F3ArXltD"
      },
      "outputs": [],
      "source": [
        "raw_data_dir = os.path.join(PROJECT_HOME, \"raw_data\")\n",
        "data_dir = os.path.join(PROJECT_HOME, \"data\")\n",
        "os.makedirs(data_dir, exist_ok=True)\n",
        "tmp_dir = \"/tmp\""
      ]
    },
    {
      "cell_type": "code",
      "execution_count": null,
      "metadata": {
        "id": "n45oPdbtK9bM"
      },
      "outputs": [],
      "source": [
        "importr('Matrix')\n",
        "readRDS = ro.r['readRDS']\n",
        "rownames = ro.r['rownames']\n",
        "write_csv = ro.r['write.csv']\n",
        "write_table = ro.r['write.table']\n",
        "writeMM = ro.r['writeMM']\n",
        "data_frame = ro.r['data.frame']"
      ]
    },
    {
      "cell_type": "code",
      "execution_count": null,
      "metadata": {
        "colab": {
          "base_uri": "https://localhost:8080/"
        },
        "id": "5xz1k6ktc58g",
        "outputId": "378583b5-86dc-446b-b2ca-423248b23253"
      },
      "outputs": [
        {
          "data": {
            "text/plain": [
              "<rpy2.rinterface_lib.sexp.NULLType object at 0x7f2f22451780> [RTYPES.NILSXP]"
            ]
          },
          "execution_count": 8,
          "metadata": {},
          "output_type": "execute_result"
        }
      ],
      "source": [
        "# Data available at https://compbio.mit.edu/microglia_states/\n",
        "metadata =  readRDS(os.path.join(raw_data_dir, 'ROSMAP.ImmuneCells.6regions.snRNAseq.meta.rds'))\n",
        "write_csv(metadata, file=os.path.join(data_dir, 'metadata.csv'), quote=False)"
      ]
    },
    {
      "cell_type": "code",
      "execution_count": null,
      "metadata": {
        "colab": {
          "base_uri": "https://localhost:8080/"
        },
        "id": "bzfEj9znTUfw",
        "outputId": "b840c99b-26bf-4a5a-92f7-1ed7ff3320ee"
      },
      "outputs": [
        {
          "data": {
            "text/plain": [
              "<rpy2.rinterface_lib.sexp.NULLType object at 0x7f2f22451780> [RTYPES.NILSXP]"
            ]
          },
          "execution_count": 9,
          "metadata": {},
          "output_type": "execute_result"
        }
      ],
      "source": [
        "# Data available at https://compbio.mit.edu/microglia_states/\n",
        "count_data = readRDS(os.path.join(raw_data_dir, 'ROSMAP.ImmuneCells.6regions.snRNAseq.counts.rds'))\n",
        "write_table(data_frame(gene=rownames(count_data)), file=os.path.join(tmp_dir, 'gene_names.csv'), quote=False, row_names=False, col_names=False)\n",
        "writeMM(count_data, file=os.path.join(tmp_dir, 'counts.txt'))"
      ]
    },
    {
      "cell_type": "code",
      "execution_count": null,
      "metadata": {
        "id": "CmzMX_9M92ZU"
      },
      "outputs": [],
      "source": [
        "X = scipy.io.mmread(os.path.join(tmp_dir, \"counts.txt\"))\n",
        "cell_meta = pd.read_csv(os.path.join(data_dir, \"metadata.csv\"))\n",
        "with open(os.path.join(tmp_dir, \"gene_names.csv\"), 'r') as f:\n",
        "    gene_names = f.read().splitlines()"
      ]
    },
    {
      "cell_type": "code",
      "execution_count": null,
      "metadata": {
        "id": "xnxYqcoHctqP"
      },
      "outputs": [],
      "source": [
        "!pyensembl install --release 75 --species human > /dev/null 2> /dev/null"
      ]
    },
    {
      "cell_type": "code",
      "execution_count": null,
      "metadata": {
        "id": "SOmBrCD8YY03"
      },
      "outputs": [],
      "source": [
        "selected_gene_ids_counter = 0\n",
        "ensembl_data = EnsemblRelease(75)\n",
        "exclude_genes = []\n",
        "gene_ids = []\n",
        "for gene_name in gene_names:\n",
        "    try:\n",
        "        results = ensembl_data.gene_ids_of_gene_name(gene_name)\n",
        "        gene_ids.append(results[0])\n",
        "        selected_gene_ids_counter += 1\n",
        "    except:\n",
        "        gene_ids.append('')\n",
        "        exclude_genes.append(gene_name)"
      ]
    },
    {
      "cell_type": "code",
      "execution_count": null,
      "metadata": {
        "colab": {
          "base_uri": "https://localhost:8080/"
        },
        "id": "FyogzbJ7ztTn",
        "outputId": "f352fe41-bf8d-4fd4-bde1-96dab44e36bd"
      },
      "outputs": [
        {
          "name": "stdout",
          "output_type": "stream",
          "text": [
            "# of gene ids: 15549\n"
          ]
        }
      ],
      "source": [
        "print(\"# of gene ids: %d\" % selected_gene_ids_counter)"
      ]
    },
    {
      "cell_type": "code",
      "execution_count": null,
      "metadata": {
        "id": "45RECjI0YaCe"
      },
      "outputs": [],
      "source": [
        "adata = anndata.AnnData(X=X.transpose().tocsr())"
      ]
    },
    {
      "cell_type": "code",
      "execution_count": null,
      "metadata": {
        "id": "ZUVgBYE8wzv9"
      },
      "outputs": [],
      "source": [
        "adata.var[\"gene_name\"] = gene_names\n",
        "adata.var[\"ensembl_id\"] = gene_ids"
      ]
    },
    {
      "cell_type": "code",
      "execution_count": null,
      "metadata": {
        "id": "Klq2eMt-YbfS"
      },
      "outputs": [],
      "source": [
        "adata.obs[\"disease\"] = pd.Categorical(cell_meta[\"ADdiag3types\"])\n",
        "adata.obs[\"n_counts\"] = adata.X.sum(axis=1)\n",
        "adata.obs[\"joinid\"] = list(range(adata.n_obs))"
      ]
    },
    {
      "cell_type": "code",
      "execution_count": null,
      "metadata": {
        "id": "O7j5qwiUqzmR"
      },
      "outputs": [],
      "source": [
        "with open(os.path.join(PROJECT_HOME, data_dir, \"gene_info.csv\"), \"w\") as gene_f:\n",
        "    gene_f.write(\"gene_name,gene_id\\n\")\n",
        "    for gene_name, gene_id in zip(gene_names, gene_ids):\n",
        "        gene_f.write(\"%s,%s\\n\" % (gene_name, gene_id))"
      ]
    },
    {
      "cell_type": "code",
      "execution_count": null,
      "metadata": {
        "id": "VuQbj-X8YgT9"
      },
      "outputs": [],
      "source": [
        "adata.write(os.path.join(data_dir, 'h5ad', 'adata.h5ad'))"
      ]
    }
  ],
  "metadata": {
    "colab": {
      "machine_shape": "hm",
      "provenance": []
    },
    "kernelspec": {
      "display_name": "Python 3",
      "name": "python3"
    },
    "language_info": {
      "codemirror_mode": {
        "name": "ipython",
        "version": 3
      },
      "file_extension": ".py",
      "mimetype": "text/x-python",
      "name": "python",
      "nbconvert_exporter": "python",
      "pygments_lexer": "ipython3",
      "version": "3.11.5"
    }
  },
  "nbformat": 4,
  "nbformat_minor": 0
}