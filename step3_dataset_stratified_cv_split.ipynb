{
  "cells": [
    {
      "cell_type": "code",
      "execution_count": null,
      "metadata": {
        "id": "YkVWRFM44KhK"
      },
      "outputs": [],
      "source": [
        "PROJECT_NAME = \"reverse-gene-finder\""
      ]
    },
    {
      "cell_type": "code",
      "execution_count": null,
      "metadata": {
        "id": "hInH2FPWWalw"
      },
      "outputs": [],
      "source": [
        "import os\n",
        "PROJECT_HOME = os.path.join(\"/content/drive/My Drive/Projects\", PROJECT_NAME)\n",
        "\n",
        "import sys\n",
        "sys.path.append(PROJECT_HOME)"
      ]
    },
    {
      "cell_type": "code",
      "execution_count": null,
      "metadata": {
        "colab": {
          "base_uri": "https://localhost:8080/"
        },
        "id": "AJYOEgFb4KhM",
        "outputId": "e92d9164-b910-40b4-d011-39890a87781e"
      },
      "outputs": [
        {
          "name": "stdout",
          "output_type": "stream",
          "text": [
            "Mounted at /content/drive\n"
          ]
        }
      ],
      "source": [
        "# Google Drive storage setup\n",
        "from google.colab import drive\n",
        "drive.mount('/content/drive', force_remount=True)"
      ]
    },
    {
      "cell_type": "code",
      "execution_count": null,
      "metadata": {
        "id": "59nXleT8ZFCK"
      },
      "outputs": [],
      "source": [
        "import joblib\n",
        "import pandas as pd\n",
        "\n",
        "from sklearn.model_selection import train_test_split\n",
        "from sklearn.model_selection import StratifiedKFold"
      ]
    },
    {
      "cell_type": "code",
      "execution_count": null,
      "metadata": {
        "id": "CljxyndMibO0"
      },
      "outputs": [],
      "source": [
        "skf = StratifiedKFold(n_splits=5)"
      ]
    },
    {
      "cell_type": "code",
      "execution_count": null,
      "metadata": {
        "id": "djH72b-nE_LQ"
      },
      "outputs": [],
      "source": [
        "selected_labels = ['nonAD', 'earlyAD']\n",
        "selected_cell_clusters = [10]\n",
        "selected_brain_regions = ['PFC']"
      ]
    },
    {
      "cell_type": "code",
      "execution_count": null,
      "metadata": {
        "id": "e5iSdKaPnY8c"
      },
      "outputs": [],
      "source": [
        "data_dir = os.path.join(PROJECT_HOME, \"data\")\n",
        "metadata_path = os.path.join(data_dir, \"metadata.csv\")\n",
        "gene_info_path = os.path.join(data_dir, \"gene_info.csv\")"
      ]
    },
    {
      "cell_type": "code",
      "execution_count": null,
      "metadata": {
        "id": "yXXGDVxydXqi"
      },
      "outputs": [],
      "source": [
        "gene_info = pd.read_csv(gene_info_path)\n",
        "print(\"# of genes: %d\" % len(gene_info))\n",
        "\n",
        "metadata = pd.read_csv(metadata_path)\n",
        "subject_label_dict = {}\n",
        "subject_ids = metadata['subject'].unique().tolist()\n",
        "labels = metadata['ADdiag3types'].unique().tolist()\n",
        "brain_regions = metadata['brainRegion'].unique().tolist()\n",
        "\n",
        "for _, row in metadata.iterrows():\n",
        "    subject_id = row['subject']\n",
        "    diagnosis_label = row['ADdiag3types']\n",
        "    subject_label_dict[subject_id] = diagnosis_label"
      ]
    },
    {
      "cell_type": "code",
      "execution_count": null,
      "metadata": {
        "colab": {
          "base_uri": "https://localhost:8080/"
        },
        "id": "XMBsueHndJxa",
        "outputId": "cadb4646-9499-495a-a307-ad97b57162a0"
      },
      "outputs": [
        {
          "name": "stdout",
          "output_type": "stream",
          "text": [
            "# of selected genes: 15549\n",
            "# of nonAD subjects: 219\n",
            "# of earlyAD subjects: 132\n"
          ]
        }
      ],
      "source": [
        "metadata = pd.read_csv(metadata_path)\n",
        "metadata = metadata[~metadata['subject'].isnull()]\n",
        "gene_info = pd.read_csv(gene_info_path)\n",
        "gene_ids = gene_info['gene_id'][~gene_info['gene_id'].isnull()].unique()\n",
        "print(\"# of selected genes: %d\" % len(gene_ids))\n",
        "\n",
        "subject_label_dict = {}\n",
        "sample_label_dict = {}\n",
        "for idx, row in metadata.iterrows():\n",
        "    subject_id = row['subject']\n",
        "    diagnosis_label = row['ADdiag3types']\n",
        "    subject_label_dict[subject_id] = diagnosis_label\n",
        "    sample_label_dict[idx] = diagnosis_label\n",
        "\n",
        "subject_ids = metadata['subject'].unique().tolist()\n",
        "\n",
        "selected_subject_ids = []\n",
        "for selected_label in selected_labels:\n",
        "    selected_group_ids = [subject_id for subject_id in subject_ids if subject_label_dict[subject_id] == selected_label]\n",
        "    print(\"# of %s subjects: %d\" % (selected_label, len(selected_group_ids)))\n",
        "    selected_subject_ids += selected_group_ids\n",
        "\n",
        "selected_sample_ids = []\n",
        "for idx, row in metadata.iterrows():\n",
        "    subject_id = row['subject']\n",
        "    cluster = int(row['seurat_clusters'])\n",
        "    if selected_cell_clusters is not None and cluster not in selected_cell_clusters:\n",
        "        continue\n",
        "    brain_region = row['brainRegion']\n",
        "    if selected_brain_regions is not None and brain_region not in selected_brain_regions:\n",
        "        continue\n",
        "    n_feature_RNA = row['nFeature_RNA']\n",
        "    percent_mt = row['percent.mt']\n",
        "    if n_feature_RNA < 200 or n_feature_RNA > 2500:\n",
        "        continue\n",
        "    if percent_mt > 5:\n",
        "        continue\n",
        "    if subject_id in selected_subject_ids:\n",
        "        selected_sample_ids.append(idx)"
      ]
    },
    {
      "cell_type": "code",
      "execution_count": null,
      "metadata": {
        "colab": {
          "base_uri": "https://localhost:8080/"
        },
        "id": "Dk9EMLEIg4Db",
        "outputId": "a65f3167-9bd3-4bb1-866f-8f69ecba28fd"
      },
      "outputs": [
        {
          "name": "stdout",
          "output_type": "stream",
          "text": [
            "Fold 0:\n",
            "# of training samples: 489\n",
            "# of validation samples: 123\n",
            "# of testing samples: 153\n",
            "Fold 1:\n",
            "# of training samples: 489\n",
            "# of validation samples: 123\n",
            "# of testing samples: 153\n",
            "Fold 2:\n",
            "# of training samples: 489\n",
            "# of validation samples: 123\n",
            "# of testing samples: 153\n",
            "Fold 3:\n",
            "# of training samples: 489\n",
            "# of validation samples: 123\n",
            "# of testing samples: 153\n",
            "Fold 4:\n",
            "# of training samples: 489\n",
            "# of validation samples: 123\n",
            "# of testing samples: 153\n"
          ]
        }
      ],
      "source": [
        "os.makedirs(os.path.join(PROJECT_HOME, \"data\", \"id_splits\"), exist_ok=True)\n",
        "for i, (train_index, test_index) in enumerate(skf.split(selected_sample_ids, [sample_label_dict[idx] for idx in selected_sample_ids])):\n",
        "    print(f\"Fold {i}:\")\n",
        "    train_sample_ids = [selected_sample_ids[idx] for idx in train_index]\n",
        "    training_sample_ids, validation_sample_ids = train_test_split(train_sample_ids, test_size=0.2, random_state=42,\n",
        "                                                                  stratify=[sample_label_dict[idx] for idx in train_sample_ids])\n",
        "    testing_sample_ids = [selected_sample_ids[idx] for idx in test_index]\n",
        "\n",
        "    print(\"# of training samples: %d\" % len(training_sample_ids))\n",
        "    print(\"# of validation samples: %d\" % len(validation_sample_ids))\n",
        "    print(\"# of testing samples: %d\" % len(testing_sample_ids))\n",
        "\n",
        "    joblib.dump((training_sample_ids, validation_sample_ids, testing_sample_ids), os.path.join(PROJECT_HOME, \"data\", \"id_splits\", \"split_%d.joblib\" % i))"
      ]
    }
  ],
  "metadata": {
    "colab": {
      "machine_shape": "hm",
      "provenance": []
    },
    "kernelspec": {
      "display_name": "Python 3",
      "name": "python3"
    },
    "language_info": {
      "codemirror_mode": {
        "name": "ipython",
        "version": 3
      },
      "file_extension": ".py",
      "mimetype": "text/x-python",
      "name": "python",
      "nbconvert_exporter": "python",
      "pygments_lexer": "ipython3",
      "version": "3.11.5"
    }
  },
  "nbformat": 4,
  "nbformat_minor": 0
}
