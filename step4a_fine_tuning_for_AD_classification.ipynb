{
  "cells": [
    {
      "cell_type": "code",
      "execution_count": null,
      "metadata": {
        "id": "YkVWRFM44KhK"
      },
      "outputs": [],
      "source": [
        "PROJECT_NAME = \"reverse-gene-finder\""
      ]
    },
    {
      "cell_type": "code",
      "execution_count": null,
      "metadata": {
        "id": "hInH2FPWWalw"
      },
      "outputs": [],
      "source": [
        "import os\n",
        "PROJECT_HOME = os.path.join(\"/content/drive/My Drive/Projects\", PROJECT_NAME)\n",
        "\n",
        "import sys\n",
        "sys.path.append(PROJECT_HOME)"
      ]
    },
    {
      "cell_type": "code",
      "execution_count": null,
      "metadata": {
        "id": "AJYOEgFb4KhM"
      },
      "outputs": [],
      "source": [
        "# Google Drive storage setup\n",
        "from google.colab import drive\n",
        "drive.mount('/content/drive', force_remount=True)"
      ]
    },
    {
      "cell_type": "code",
      "execution_count": null,
      "metadata": {
        "id": "giYhcHcVrgBG"
      },
      "outputs": [],
      "source": [
        "%pip install -U tdigest anndata scanpy loompy > /dev/null 2> /dev/null\n",
        "%pip install -U transformers[torch] ray[data,train,tune,serve] datasets > /dev/null 2> /dev/null"
      ]
    },
    {
      "cell_type": "code",
      "execution_count": null,
      "metadata": {
        "id": "59nXleT8ZFCK"
      },
      "outputs": [],
      "source": [
        "import json\n",
        "import joblib\n",
        "import warnings\n",
        "\n",
        "from libs.classifier import Classifier"
      ]
    },
    {
      "cell_type": "code",
      "execution_count": null,
      "metadata": {
        "id": "wLXMbyOvT-BI"
      },
      "outputs": [],
      "source": [
        "warnings.filterwarnings(\"ignore\", category=RuntimeWarning)\n",
        "warnings.filterwarnings(\"ignore\", category=UserWarning)"
      ]
    },
    {
      "cell_type": "code",
      "execution_count": null,
      "metadata": {
        "id": "-nbfPr2ik4UX"
      },
      "outputs": [],
      "source": [
        "CV_FOLD = 0 # Choose from 0 to 4 to fine-tune the model testing on a specific fold and trained on the rest"
      ]
    },
    {
      "cell_type": "code",
      "execution_count": null,
      "metadata": {
        "id": "XZI0R-Borg0C"
      },
      "outputs": [],
      "source": [
        "pretrained_model_path = os.path.join(PROJECT_HOME, \"models/pretrained_models/geneformer-12L-30M/\")"
      ]
    },
    {
      "cell_type": "code",
      "execution_count": null,
      "metadata": {
        "id": "r6UU6X57SRO3"
      },
      "outputs": [],
      "source": [
        "output_prefix = \"ad_cell_classifier\"\n",
        "output_dir = os.path.join(PROJECT_HOME, \"models\", \"finetuned_models\", \"cv_%d\" % CV_FOLD)\n",
        "tmp_output_dir = \"/tmp\"\n",
        "!rm -rf '{output_dir}'\n",
        "!mkdir -p '{output_dir}'"
      ]
    },
    {
      "cell_type": "code",
      "execution_count": null,
      "metadata": {
        "id": "e5iSdKaPnY8c"
      },
      "outputs": [],
      "source": [
        "# Load CV sample IDs\n",
        "\n",
        "selected_labels = ['nonAD', 'earlyAD']\n",
        "train_ids, valid_ids, test_ids = joblib.load(os.path.join(PROJECT_HOME, \"data\", \"id_splits\", \"split_%s.joblib\" % CV_FOLD))"
      ]
    },
    {
      "cell_type": "code",
      "execution_count": null,
      "metadata": {
        "id": "saKn1GejlavO"
      },
      "outputs": [],
      "source": [
        "# Hyperparameter settings\n",
        "\n",
        "from ray import tune\n",
        "\n",
        "ray_config = {\n",
        "    \"num_train_epochs\": tune.choice([1, 2, 4]),\n",
        "    \"learning_rate\": tune.loguniform(1e-6, 1e-3),\n",
        "    \"weight_decay\": tune.uniform(0.0, 0.3),\n",
        "    \"lr_scheduler_type\": tune.choice([\"linear\", \"cosine\", \"polynomial\"]),\n",
        "    \"warmup_steps\": tune.randint(100, 2000),\n",
        "    \"seed\": tune.randint(0, 100),\n",
        "    \"per_device_train_batch_size\": tune.choice([4, 8])\n",
        "}"
      ]
    },
    {
      "cell_type": "code",
      "execution_count": null,
      "metadata": {
        "id": "HTc-07NsaAbT"
      },
      "outputs": [],
      "source": [
        "cc = Classifier(classifier=\"cell\",\n",
        "                cell_state_dict = {\"state_key\": \"disease\", \"states\": selected_labels},\n",
        "                filter_data=None,\n",
        "                training_args=None,\n",
        "                ray_config=ray_config,\n",
        "                freeze_layers=4,\n",
        "                num_crossval_splits=1,\n",
        "                forward_batch_size=200,\n",
        "                nproc=8)"
      ]
    },
    {
      "cell_type": "code",
      "execution_count": null,
      "metadata": {
        "id": "oAo8iJGyhwVx"
      },
      "outputs": [],
      "source": [
        "input_data_path = os.path.join(PROJECT_HOME, \"data\", \"tokenized_data\", \"rosmap.dataset\")\n",
        "\n",
        "train_test_id_split_dict = {\"attr_key\": \"joinid\", \"train\": train_ids + valid_ids, \"test\": test_ids}\n",
        "\n",
        "cc.prepare_data(input_data_file=input_data_path,\n",
        "                output_directory=output_dir,\n",
        "                output_prefix=output_prefix,\n",
        "                split_id_dict=train_test_id_split_dict)"
      ]
    },
    {
      "cell_type": "code",
      "execution_count": null,
      "metadata": {
        "id": "iPq8SJPgkmOm"
      },
      "outputs": [],
      "source": [
        "# Hyperparameter tuning\n",
        "\n",
        "train_valid_id_split_dict = {\"attr_key\": \"joinid\", \"train\": train_ids, \"eval\": valid_ids}\n",
        "\n",
        "best_training_args = cc.validate(model_directory=pretrained_model_path,\n",
        "                                 prepared_input_data_file=f\"{output_dir}/{output_prefix}_labeled_train.dataset\",\n",
        "                                 id_class_dict_file=f\"{output_dir}/{output_prefix}_id_class_dict.pkl\",\n",
        "                                 output_directory=tmp_output_dir,\n",
        "                                 output_prefix=output_prefix,\n",
        "                                 split_id_dict=train_valid_id_split_dict,\n",
        "                                 lib_dir_path=os.path.join(PROJECT_HOME, \"libs\"),\n",
        "                                 n_hyperopt_trials=10)\n",
        "\n",
        "cc.ray_config = None\n",
        "cc.training_args = best_training_args.hyperparameters\n",
        "best_hyperparameters = best_training_args.hyperparameters\n",
        "print(\"Best hyperparameters: %s\" % best_hyperparameters)"
      ]
    },
    {
      "cell_type": "code",
      "execution_count": null,
      "metadata": {
        "id": "bKmlj7RMkjRB"
      },
      "outputs": [],
      "source": [
        "# Training with the best hyperparameters\n",
        "\n",
        "train_valid_id_split_dict = {\"attr_key\": \"joinid\", \"train\": train_ids, \"eval\": valid_ids}\n",
        "\n",
        "all_metrics = cc.validate(model_directory=pretrained_model_path,\n",
        "                          prepared_input_data_file=f\"{output_dir}/{output_prefix}_labeled_train.dataset\",\n",
        "                          id_class_dict_file=f\"{output_dir}/{output_prefix}_id_class_dict.pkl\",\n",
        "                          output_directory=output_dir,\n",
        "                          output_prefix=output_prefix,\n",
        "                          split_id_dict=train_valid_id_split_dict)"
      ]
    },
    {
      "cell_type": "code",
      "execution_count": null,
      "metadata": {
        "id": "8EEQR5_Vkyti"
      },
      "outputs": [],
      "source": [
        "# Evaluation on the test set\n",
        "\n",
        "cc = Classifier(classifier=\"cell\",\n",
        "                cell_state_dict = {\"state_key\": \"disease\", \"states\": selected_labels},\n",
        "                forward_batch_size=200,\n",
        "                nproc=8)\n",
        "\n",
        "all_metrics_test = cc.evaluate_saved_model(\n",
        "        model_directory=f\"{output_dir}/geneformer_cellClassifier_{output_prefix}/ksplit1/\",\n",
        "        id_class_dict_file=f\"{output_dir}/{output_prefix}_id_class_dict.pkl\",\n",
        "        test_data_file=f\"{output_dir}/{output_prefix}_labeled_test.dataset\",\n",
        "        output_directory=output_dir,\n",
        "        output_prefix=output_prefix,\n",
        "    )"
      ]
    },
    {
      "cell_type": "code",
      "execution_count": null,
      "metadata": {
        "id": "-h4ckH96z_r3"
      },
      "outputs": [],
      "source": [
        "# Save evaluation results\n",
        "\n",
        "os.makedirs(os.path.join(PROJECT_HOME, \"results\"), exist_ok=True)\n",
        "result_output = {}\n",
        "for key in best_hyperparameters:\n",
        "    result_output[key] = best_hyperparameters[key]\n",
        "result_output[\"sensitivity\"] = all_metrics_test['all_roc_metrics']['sensitivity']\n",
        "result_output[\"specificity\"] = all_metrics_test['all_roc_metrics']['specificity']\n",
        "result_output[\"roc_auc\"] = all_metrics_test['all_roc_metrics']['all_roc_auc']\n",
        "with open(os.path.join(PROJECT_HOME, \"results\", \"eval_cv_%d.json\" % CV_FOLD), \"w\") as json_f:\n",
        "    json.dump(result_output, json_f, indent=4)"
      ]
    },
    {
      "cell_type": "code",
      "execution_count": null,
      "metadata": {
        "id": "qrFPYks8UayG"
      },
      "outputs": [],
      "source": [
        "from google.colab import runtime\n",
        "runtime.unassign()"
      ]
    }
  ],
  "metadata": {
    "accelerator": "GPU",
    "colab": {
      "gpuType": "A100",
      "machine_shape": "hm",
      "provenance": []
    },
    "kernelspec": {
      "display_name": "Python 3",
      "name": "python3"
    },
    "language_info": {
      "codemirror_mode": {
        "name": "ipython",
        "version": 3
      },
      "file_extension": ".py",
      "mimetype": "text/x-python",
      "name": "python",
      "nbconvert_exporter": "python",
      "pygments_lexer": "ipython3",
      "version": "3.11.5"
    }
  },
  "nbformat": 4,
  "nbformat_minor": 0
}
