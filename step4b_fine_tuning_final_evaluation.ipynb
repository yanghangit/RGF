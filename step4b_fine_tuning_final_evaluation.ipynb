{
  "cells": [
    {
      "cell_type": "code",
      "execution_count": null,
      "metadata": {
        "id": "YkVWRFM44KhK"
      },
      "outputs": [],
      "source": [
        "PROJECT_NAME = \"reverse-gene-finder\""
      ]
    },
    {
      "cell_type": "code",
      "execution_count": null,
      "metadata": {
        "id": "hInH2FPWWalw"
      },
      "outputs": [],
      "source": [
        "import os\n",
        "os.environ['SHELL'] = '/bin/bash'\n",
        "PROJECT_HOME = os.path.join(\"/content/drive/My Drive/Projects\", PROJECT_NAME)\n",
        "\n",
        "import sys\n",
        "sys.path.append(PROJECT_HOME)"
      ]
    },
    {
      "cell_type": "code",
      "execution_count": null,
      "metadata": {
        "colab": {
          "base_uri": "https://localhost:8080/"
        },
        "id": "AJYOEgFb4KhM",
        "outputId": "6d54ce0f-303c-4073-e2d4-3e502ced8af0"
      },
      "outputs": [
        {
          "output_type": "stream",
          "name": "stdout",
          "text": [
            "Mounted at /content/drive\n"
          ]
        }
      ],
      "source": [
        "# Google Drive storage setup\n",
        "from google.colab import drive\n",
        "drive.mount('/content/drive', force_remount=True)"
      ]
    },
    {
      "cell_type": "code",
      "execution_count": null,
      "metadata": {
        "id": "5ZWfFOhYD7Yd"
      },
      "outputs": [],
      "source": [
        "import json\n",
        "import numpy as np"
      ]
    },
    {
      "cell_type": "code",
      "execution_count": null,
      "metadata": {
        "id": "LRdQ5J6nD7Ye"
      },
      "outputs": [],
      "source": [
        "sensitivity = []\n",
        "specificity = []\n",
        "roc_auc = []\n",
        "for cv_idx in range(5):\n",
        "    with open(os.path.join(PROJECT_HOME, 'results', 'eval_cv_%d.json' % cv_idx), 'r') as f:\n",
        "        eval_results = json.load(f)\n",
        "        sensitivity.append(eval_results['sensitivity'])\n",
        "        specificity.append(eval_results['specificity'])\n",
        "        roc_auc.append(eval_results['roc_auc'])"
      ]
    },
    {
      "cell_type": "code",
      "execution_count": null,
      "metadata": {
        "colab": {
          "base_uri": "https://localhost:8080/"
        },
        "id": "HbF98ns7D7Ye",
        "outputId": "6dc6c8a2-361c-470c-af90-3709b8b13c1c"
      },
      "outputs": [
        {
          "output_type": "stream",
          "name": "stdout",
          "text": [
            "ROC AUC: 74.67% ± 6.74%\n",
            "Sensitivity: 62.68% ± 11.43%\n",
            "Specificity: 73.22% ± 16.01%\n"
          ]
        }
      ],
      "source": [
        "print(\"ROC AUC: %.2f%% ± %.2f%%\" % (100 * np.mean(roc_auc), 100 * np.std(roc_auc)))\n",
        "print(\"Sensitivity: %.2f%% ± %.2f%%\" % (100 * np.mean(sensitivity), 100 * np.std(sensitivity)))\n",
        "print(\"Specificity: %.2f%% ± %.2f%%\" % (100 * np.mean(specificity), 100 * np.std(specificity)))"
      ]
    }
  ],
  "metadata": {
    "colab": {
      "machine_shape": "hm",
      "provenance": []
    },
    "kernelspec": {
      "display_name": "Python 3",
      "name": "python3"
    },
    "language_info": {
      "codemirror_mode": {
        "name": "ipython",
        "version": 3
      },
      "file_extension": ".py",
      "mimetype": "text/x-python",
      "name": "python",
      "nbconvert_exporter": "python",
      "pygments_lexer": "ipython3",
      "version": "3.11.5"
    }
  },
  "nbformat": 4,
  "nbformat_minor": 0
}